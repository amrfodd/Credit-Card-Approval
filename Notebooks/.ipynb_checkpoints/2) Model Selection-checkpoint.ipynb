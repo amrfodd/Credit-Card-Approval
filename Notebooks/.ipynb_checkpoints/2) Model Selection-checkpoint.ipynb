{
 "cells": [
  {
   "cell_type": "markdown",
   "id": "33e3ce63",
   "metadata": {},
   "source": [
    "###### Import Libraries"
   ]
  },
  {
   "cell_type": "code",
   "execution_count": 17,
   "id": "6f8966a4",
   "metadata": {},
   "outputs": [],
   "source": [
    "import numpy as np # linear algebra\n",
    "import pandas as pd # data processing\n",
    "import seaborn as sns #Visualization\n",
    "import matplotlib.pyplot as plt #Visualization\n",
    "from sklearn.preprocessing import StandardScaler #Standardization\n",
    "from imblearn.over_sampling import SMOTE\n",
    "from imblearn.under_sampling import TomekLinks\n",
    "from sklearn.model_selection import train_test_split\n",
    "from lazypredict.Supervised import LazyClassifier # Load best classifier"
   ]
  },
  {
   "cell_type": "markdown",
   "id": "90bca03f",
   "metadata": {},
   "source": [
    "###### Load Data"
   ]
  },
  {
   "cell_type": "code",
   "execution_count": 18,
   "id": "ddadb5bc",
   "metadata": {},
   "outputs": [],
   "source": [
    "xData = pd.read_csv('../Data/Train.csv')\n",
    "yData = pd.read_csv('../Data/Test.csv')"
   ]
  },
  {
   "cell_type": "code",
   "execution_count": 19,
   "id": "4c1980d3",
   "metadata": {},
   "outputs": [],
   "source": [
    "X_train, X_test, y_train, y_test = train_test_split(xData,yData,random_state=24)"
   ]
  },
  {
   "cell_type": "code",
   "execution_count": 20,
   "id": "4d65372b",
   "metadata": {},
   "outputs": [
    {
     "data": {
      "text/plain": [
       "(5306, 1)"
      ]
     },
     "execution_count": 20,
     "metadata": {},
     "output_type": "execute_result"
    }
   ],
   "source": [
    "y_train.shape"
   ]
  },
  {
   "cell_type": "code",
   "execution_count": 21,
   "id": "ee0341e5",
   "metadata": {},
   "outputs": [
    {
     "name": "stdout",
     "output_type": "stream",
     "text": [
      "Original dataset shape STATUS\n",
      "0         5282\n",
      "1           24\n",
      "dtype: int64\n",
      "Resample dataset shape STATUS\n",
      "0         5282\n",
      "1           24\n",
      "dtype: int64\n"
     ]
    }
   ],
   "source": [
    "tl = TomekLinks(sampling_strategy='majority')\n",
    "x_tl, y_tl = tl.fit_resample(X_train,y_train)\n",
    "print('Original dataset shape', y_train.value_counts())\n",
    "print('Resample dataset shape', y_tl.value_counts())"
   ]
  },
  {
   "cell_type": "code",
   "execution_count": 22,
   "id": "dff926f0",
   "metadata": {},
   "outputs": [
    {
     "name": "stdout",
     "output_type": "stream",
     "text": [
      "Original dataset shape STATUS\n",
      "0         5282\n",
      "1           24\n",
      "dtype: int64\n",
      "Resample dataset shape STATUS\n",
      "0         5282\n",
      "1         5282\n",
      "dtype: int64\n"
     ]
    }
   ],
   "source": [
    "smote = SMOTE()\n",
    "x_smote, y_smote = smote.fit_resample(x_tl, y_tl)\n",
    "print('Original dataset shape', y_tl.value_counts())\n",
    "print('Resample dataset shape', y_smote.value_counts())"
   ]
  },
  {
   "cell_type": "code",
   "execution_count": 23,
   "id": "d4ab6aaf",
   "metadata": {},
   "outputs": [
    {
     "name": "stderr",
     "output_type": "stream",
     "text": [
      "100%|██████████| 29/29 [00:49<00:00,  1.71s/it]"
     ]
    },
    {
     "name": "stdout",
     "output_type": "stream",
     "text": [
      "                               Accuracy  Balanced Accuracy  ROC AUC  F1 Score  \\\n",
      "Model                                                                           \n",
      "SGDClassifier                      0.99               1.00     1.00      0.99   \n",
      "Perceptron                         0.99               0.99     0.99      0.99   \n",
      "AdaBoostClassifier                 0.99               0.99     0.99      0.99   \n",
      "LabelSpreading                     0.99               0.99     0.99      0.99   \n",
      "XGBClassifier                      0.99               0.99     0.99      0.99   \n",
      "SVC                                0.99               0.99     0.99      0.99   \n",
      "RandomForestClassifier             0.99               0.99     0.99      0.99   \n",
      "QuadraticDiscriminantAnalysis      0.99               0.99     0.99      0.99   \n",
      "PassiveAggressiveClassifier        0.99               0.99     0.99      0.99   \n",
      "BaggingClassifier                  0.99               0.99     0.99      0.99   \n",
      "LinearSVC                          0.99               0.99     0.99      0.99   \n",
      "LabelPropagation                   0.99               0.99     0.99      0.99   \n",
      "KNeighborsClassifier               0.99               0.99     0.99      0.99   \n",
      "ExtraTreesClassifier               0.99               0.99     0.99      0.99   \n",
      "ExtraTreeClassifier                0.99               0.99     0.99      0.99   \n",
      "DecisionTreeClassifier             0.99               0.99     0.99      0.99   \n",
      "CalibratedClassifierCV             0.99               0.99     0.99      0.99   \n",
      "LGBMClassifier                     0.99               0.99     0.99      0.99   \n",
      "LogisticRegression                 0.98               0.99     0.99      0.99   \n",
      "NuSVC                              0.94               0.97     0.97      0.97   \n",
      "LinearDiscriminantAnalysis         0.92               0.96     0.96      0.96   \n",
      "RidgeClassifier                    0.92               0.96     0.96      0.96   \n",
      "RidgeClassifierCV                  0.92               0.96     0.96      0.96   \n",
      "BernoulliNB                        0.92               0.96     0.96      0.95   \n",
      "NearestCentroid                    0.88               0.94     0.94      0.93   \n",
      "GaussianNB                         0.87               0.93     0.93      0.93   \n",
      "DummyClassifier                    1.00               0.50     0.50      1.00   \n",
      "\n",
      "                               Time Taken  \n",
      "Model                                      \n",
      "SGDClassifier                        0.10  \n",
      "Perceptron                           0.06  \n",
      "AdaBoostClassifier                   0.70  \n",
      "LabelSpreading                      15.83  \n",
      "XGBClassifier                        0.52  \n",
      "SVC                                  0.56  \n",
      "RandomForestClassifier               0.74  \n",
      "QuadraticDiscriminantAnalysis        0.07  \n",
      "PassiveAggressiveClassifier          0.07  \n",
      "BaggingClassifier                    0.25  \n",
      "LinearSVC                            1.35  \n",
      "LabelPropagation                    11.97  \n",
      "KNeighborsClassifier                 0.62  \n",
      "ExtraTreesClassifier                 0.67  \n",
      "ExtraTreeClassifier                  0.06  \n",
      "DecisionTreeClassifier               0.07  \n",
      "CalibratedClassifierCV               5.26  \n",
      "LGBMClassifier                       0.29  \n",
      "LogisticRegression                   0.18  \n",
      "NuSVC                                9.52  \n",
      "LinearDiscriminantAnalysis           0.29  \n",
      "RidgeClassifier                      0.07  \n",
      "RidgeClassifierCV                    0.11  \n",
      "BernoulliNB                          0.05  \n",
      "NearestCentroid                      0.05  \n",
      "GaussianNB                           0.05  \n",
      "DummyClassifier                      0.04  \n"
     ]
    },
    {
     "name": "stderr",
     "output_type": "stream",
     "text": [
      "\n"
     ]
    }
   ],
   "source": [
    "clf = LazyClassifier(verbose=0,ignore_warnings=True, custom_metric=None)\n",
    "models,predictions = clf.fit(x_smote, X_test, y_smote, y_test)\n",
    "\n",
    "print(models)"
   ]
  },
  {
   "cell_type": "markdown",
   "id": "79912069",
   "metadata": {},
   "source": [
    "I decided to work on random Forest Classifier and KNeighborsClassifier\n",
    "\n"
   ]
  }
 ],
 "metadata": {
  "kernelspec": {
   "display_name": "Python 3 (ipykernel)",
   "language": "python",
   "name": "python3"
  },
  "language_info": {
   "codemirror_mode": {
    "name": "ipython",
    "version": 3
   },
   "file_extension": ".py",
   "mimetype": "text/x-python",
   "name": "python",
   "nbconvert_exporter": "python",
   "pygments_lexer": "ipython3",
   "version": "3.9.13"
  }
 },
 "nbformat": 4,
 "nbformat_minor": 5
}
