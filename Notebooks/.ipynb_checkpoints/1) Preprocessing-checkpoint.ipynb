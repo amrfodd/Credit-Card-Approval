{
 "cells": [
  {
   "cell_type": "markdown",
   "id": "eef7e683",
   "metadata": {},
   "source": [
    "###### Import Libraries"
   ]
  },
  {
   "cell_type": "code",
   "execution_count": 455,
   "id": "fe211fe1",
   "metadata": {},
   "outputs": [],
   "source": [
    "import numpy as np # linear algebra\n",
    "import pandas as pd # data processing, CSV file I/O (e.g. pd.read_csv)\n",
    "import seaborn as sns #Visualization\n",
    "import matplotlib.pyplot as plt #Visualization\n",
    "from sklearn.preprocessing import StandardScaler #Standardization\n",
    "from sklearn.model_selection import train_test_split #Spliting\n",
    "from sklearn.neighbors import KNeighborsClassifier #KNN Classifier\n",
    "from sklearn.metrics import confusion_matrix \n",
    "from imblearn.over_sampling import SMOTE\n",
    "from imblearn.under_sampling import TomekLinks\n",
    "from sklearn.cluster import KMeans\n",
    "from sklearn.ensemble import RandomForestClassifier"
   ]
  },
  {
   "cell_type": "markdown",
   "id": "f7034e9c",
   "metadata": {},
   "source": [
    "###### Load Data"
   ]
  },
  {
   "cell_type": "code",
   "execution_count": 456,
   "id": "af0d9cb0",
   "metadata": {},
   "outputs": [],
   "source": [
    "applications = pd.read_csv('../Data/application_record.csv')\n",
    "credit_record = pd.read_csv('../Data/credit_record.csv')"
   ]
  },
  {
   "cell_type": "code",
   "execution_count": 457,
   "id": "cef0da8b",
   "metadata": {},
   "outputs": [
    {
     "data": {
      "text/html": [
       "<div>\n",
       "<style scoped>\n",
       "    .dataframe tbody tr th:only-of-type {\n",
       "        vertical-align: middle;\n",
       "    }\n",
       "\n",
       "    .dataframe tbody tr th {\n",
       "        vertical-align: top;\n",
       "    }\n",
       "\n",
       "    .dataframe thead th {\n",
       "        text-align: right;\n",
       "    }\n",
       "</style>\n",
       "<table border=\"1\" class=\"dataframe\">\n",
       "  <thead>\n",
       "    <tr style=\"text-align: right;\">\n",
       "      <th></th>\n",
       "      <th>ID</th>\n",
       "      <th>CODE_GENDER</th>\n",
       "      <th>FLAG_OWN_CAR</th>\n",
       "      <th>FLAG_OWN_REALTY</th>\n",
       "      <th>CNT_CHILDREN</th>\n",
       "      <th>AMT_INCOME_TOTAL</th>\n",
       "      <th>NAME_INCOME_TYPE</th>\n",
       "      <th>NAME_EDUCATION_TYPE</th>\n",
       "      <th>NAME_FAMILY_STATUS</th>\n",
       "      <th>NAME_HOUSING_TYPE</th>\n",
       "      <th>DAYS_BIRTH</th>\n",
       "      <th>DAYS_EMPLOYED</th>\n",
       "      <th>FLAG_MOBIL</th>\n",
       "      <th>FLAG_WORK_PHONE</th>\n",
       "      <th>FLAG_PHONE</th>\n",
       "      <th>FLAG_EMAIL</th>\n",
       "      <th>OCCUPATION_TYPE</th>\n",
       "      <th>CNT_FAM_MEMBERS</th>\n",
       "    </tr>\n",
       "  </thead>\n",
       "  <tbody>\n",
       "    <tr>\n",
       "      <th>0</th>\n",
       "      <td>5008804</td>\n",
       "      <td>M</td>\n",
       "      <td>Y</td>\n",
       "      <td>Y</td>\n",
       "      <td>0</td>\n",
       "      <td>427500.0</td>\n",
       "      <td>Working</td>\n",
       "      <td>Higher education</td>\n",
       "      <td>Civil marriage</td>\n",
       "      <td>Rented apartment</td>\n",
       "      <td>-12005</td>\n",
       "      <td>-4542</td>\n",
       "      <td>1</td>\n",
       "      <td>1</td>\n",
       "      <td>0</td>\n",
       "      <td>0</td>\n",
       "      <td>NaN</td>\n",
       "      <td>2.0</td>\n",
       "    </tr>\n",
       "    <tr>\n",
       "      <th>1</th>\n",
       "      <td>5008805</td>\n",
       "      <td>M</td>\n",
       "      <td>Y</td>\n",
       "      <td>Y</td>\n",
       "      <td>0</td>\n",
       "      <td>427500.0</td>\n",
       "      <td>Working</td>\n",
       "      <td>Higher education</td>\n",
       "      <td>Civil marriage</td>\n",
       "      <td>Rented apartment</td>\n",
       "      <td>-12005</td>\n",
       "      <td>-4542</td>\n",
       "      <td>1</td>\n",
       "      <td>1</td>\n",
       "      <td>0</td>\n",
       "      <td>0</td>\n",
       "      <td>NaN</td>\n",
       "      <td>2.0</td>\n",
       "    </tr>\n",
       "    <tr>\n",
       "      <th>2</th>\n",
       "      <td>5008806</td>\n",
       "      <td>M</td>\n",
       "      <td>Y</td>\n",
       "      <td>Y</td>\n",
       "      <td>0</td>\n",
       "      <td>112500.0</td>\n",
       "      <td>Working</td>\n",
       "      <td>Secondary / secondary special</td>\n",
       "      <td>Married</td>\n",
       "      <td>House / apartment</td>\n",
       "      <td>-21474</td>\n",
       "      <td>-1134</td>\n",
       "      <td>1</td>\n",
       "      <td>0</td>\n",
       "      <td>0</td>\n",
       "      <td>0</td>\n",
       "      <td>Security staff</td>\n",
       "      <td>2.0</td>\n",
       "    </tr>\n",
       "    <tr>\n",
       "      <th>3</th>\n",
       "      <td>5008808</td>\n",
       "      <td>F</td>\n",
       "      <td>N</td>\n",
       "      <td>Y</td>\n",
       "      <td>0</td>\n",
       "      <td>270000.0</td>\n",
       "      <td>Commercial associate</td>\n",
       "      <td>Secondary / secondary special</td>\n",
       "      <td>Single / not married</td>\n",
       "      <td>House / apartment</td>\n",
       "      <td>-19110</td>\n",
       "      <td>-3051</td>\n",
       "      <td>1</td>\n",
       "      <td>0</td>\n",
       "      <td>1</td>\n",
       "      <td>1</td>\n",
       "      <td>Sales staff</td>\n",
       "      <td>1.0</td>\n",
       "    </tr>\n",
       "    <tr>\n",
       "      <th>4</th>\n",
       "      <td>5008809</td>\n",
       "      <td>F</td>\n",
       "      <td>N</td>\n",
       "      <td>Y</td>\n",
       "      <td>0</td>\n",
       "      <td>270000.0</td>\n",
       "      <td>Commercial associate</td>\n",
       "      <td>Secondary / secondary special</td>\n",
       "      <td>Single / not married</td>\n",
       "      <td>House / apartment</td>\n",
       "      <td>-19110</td>\n",
       "      <td>-3051</td>\n",
       "      <td>1</td>\n",
       "      <td>0</td>\n",
       "      <td>1</td>\n",
       "      <td>1</td>\n",
       "      <td>Sales staff</td>\n",
       "      <td>1.0</td>\n",
       "    </tr>\n",
       "  </tbody>\n",
       "</table>\n",
       "</div>"
      ],
      "text/plain": [
       "        ID CODE_GENDER FLAG_OWN_CAR FLAG_OWN_REALTY  CNT_CHILDREN  \\\n",
       "0  5008804           M            Y               Y             0   \n",
       "1  5008805           M            Y               Y             0   \n",
       "2  5008806           M            Y               Y             0   \n",
       "3  5008808           F            N               Y             0   \n",
       "4  5008809           F            N               Y             0   \n",
       "\n",
       "   AMT_INCOME_TOTAL      NAME_INCOME_TYPE            NAME_EDUCATION_TYPE  \\\n",
       "0          427500.0               Working               Higher education   \n",
       "1          427500.0               Working               Higher education   \n",
       "2          112500.0               Working  Secondary / secondary special   \n",
       "3          270000.0  Commercial associate  Secondary / secondary special   \n",
       "4          270000.0  Commercial associate  Secondary / secondary special   \n",
       "\n",
       "     NAME_FAMILY_STATUS  NAME_HOUSING_TYPE  DAYS_BIRTH  DAYS_EMPLOYED  \\\n",
       "0        Civil marriage   Rented apartment      -12005          -4542   \n",
       "1        Civil marriage   Rented apartment      -12005          -4542   \n",
       "2               Married  House / apartment      -21474          -1134   \n",
       "3  Single / not married  House / apartment      -19110          -3051   \n",
       "4  Single / not married  House / apartment      -19110          -3051   \n",
       "\n",
       "   FLAG_MOBIL  FLAG_WORK_PHONE  FLAG_PHONE  FLAG_EMAIL OCCUPATION_TYPE  \\\n",
       "0           1                1           0           0             NaN   \n",
       "1           1                1           0           0             NaN   \n",
       "2           1                0           0           0  Security staff   \n",
       "3           1                0           1           1     Sales staff   \n",
       "4           1                0           1           1     Sales staff   \n",
       "\n",
       "   CNT_FAM_MEMBERS  \n",
       "0              2.0  \n",
       "1              2.0  \n",
       "2              2.0  \n",
       "3              1.0  \n",
       "4              1.0  "
      ]
     },
     "execution_count": 457,
     "metadata": {},
     "output_type": "execute_result"
    }
   ],
   "source": [
    "applications.head()"
   ]
  },
  {
   "cell_type": "code",
   "execution_count": 458,
   "id": "f9bac2b5",
   "metadata": {},
   "outputs": [
    {
     "name": "stdout",
     "output_type": "stream",
     "text": [
      "<class 'pandas.core.frame.DataFrame'>\n",
      "RangeIndex: 438557 entries, 0 to 438556\n",
      "Data columns (total 18 columns):\n",
      " #   Column               Non-Null Count   Dtype  \n",
      "---  ------               --------------   -----  \n",
      " 0   ID                   438557 non-null  int64  \n",
      " 1   CODE_GENDER          438557 non-null  object \n",
      " 2   FLAG_OWN_CAR         438557 non-null  object \n",
      " 3   FLAG_OWN_REALTY      438557 non-null  object \n",
      " 4   CNT_CHILDREN         438557 non-null  int64  \n",
      " 5   AMT_INCOME_TOTAL     438557 non-null  float64\n",
      " 6   NAME_INCOME_TYPE     438557 non-null  object \n",
      " 7   NAME_EDUCATION_TYPE  438557 non-null  object \n",
      " 8   NAME_FAMILY_STATUS   438557 non-null  object \n",
      " 9   NAME_HOUSING_TYPE    438557 non-null  object \n",
      " 10  DAYS_BIRTH           438557 non-null  int64  \n",
      " 11  DAYS_EMPLOYED        438557 non-null  int64  \n",
      " 12  FLAG_MOBIL           438557 non-null  int64  \n",
      " 13  FLAG_WORK_PHONE      438557 non-null  int64  \n",
      " 14  FLAG_PHONE           438557 non-null  int64  \n",
      " 15  FLAG_EMAIL           438557 non-null  int64  \n",
      " 16  OCCUPATION_TYPE      304354 non-null  object \n",
      " 17  CNT_FAM_MEMBERS      438557 non-null  float64\n",
      "dtypes: float64(2), int64(8), object(8)\n",
      "memory usage: 60.2+ MB\n"
     ]
    }
   ],
   "source": [
    "applications.info()"
   ]
  },
  {
   "cell_type": "code",
   "execution_count": 459,
   "id": "899687c9",
   "metadata": {},
   "outputs": [
    {
     "data": {
      "text/plain": [
       "1    438557\n",
       "Name: FLAG_MOBIL, dtype: int64"
      ]
     },
     "execution_count": 459,
     "metadata": {},
     "output_type": "execute_result"
    }
   ],
   "source": [
    "applications.FLAG_MOBIL.value_counts()"
   ]
  },
  {
   "cell_type": "code",
   "execution_count": 460,
   "id": "333da4cc",
   "metadata": {},
   "outputs": [
    {
     "data": {
      "text/plain": [
       "Laborers                 78240\n",
       "Core staff               43007\n",
       "Sales staff              41098\n",
       "Managers                 35487\n",
       "Drivers                  26090\n",
       "High skill tech staff    17289\n",
       "Accountants              15985\n",
       "Medicine staff           13520\n",
       "Cooking staff             8076\n",
       "Security staff            7993\n",
       "Cleaning staff            5845\n",
       "Private service staff     3456\n",
       "Low-skill Laborers        2140\n",
       "Secretaries               2044\n",
       "Waiters/barmen staff      1665\n",
       "Realty agents             1041\n",
       "HR staff                   774\n",
       "IT staff                   604\n",
       "Name: OCCUPATION_TYPE, dtype: int64"
      ]
     },
     "execution_count": 460,
     "metadata": {},
     "output_type": "execute_result"
    }
   ],
   "source": [
    "applications.OCCUPATION_TYPE.value_counts()"
   ]
  },
  {
   "cell_type": "code",
   "execution_count": 461,
   "id": "3ac92268",
   "metadata": {},
   "outputs": [
    {
     "data": {
      "text/html": [
       "<div>\n",
       "<style scoped>\n",
       "    .dataframe tbody tr th:only-of-type {\n",
       "        vertical-align: middle;\n",
       "    }\n",
       "\n",
       "    .dataframe tbody tr th {\n",
       "        vertical-align: top;\n",
       "    }\n",
       "\n",
       "    .dataframe thead th {\n",
       "        text-align: right;\n",
       "    }\n",
       "</style>\n",
       "<table border=\"1\" class=\"dataframe\">\n",
       "  <thead>\n",
       "    <tr style=\"text-align: right;\">\n",
       "      <th></th>\n",
       "      <th>ID</th>\n",
       "      <th>MONTHS_BALANCE</th>\n",
       "      <th>STATUS</th>\n",
       "    </tr>\n",
       "  </thead>\n",
       "  <tbody>\n",
       "    <tr>\n",
       "      <th>0</th>\n",
       "      <td>5001711</td>\n",
       "      <td>0</td>\n",
       "      <td>X</td>\n",
       "    </tr>\n",
       "    <tr>\n",
       "      <th>1</th>\n",
       "      <td>5001711</td>\n",
       "      <td>-1</td>\n",
       "      <td>0</td>\n",
       "    </tr>\n",
       "    <tr>\n",
       "      <th>2</th>\n",
       "      <td>5001711</td>\n",
       "      <td>-2</td>\n",
       "      <td>0</td>\n",
       "    </tr>\n",
       "    <tr>\n",
       "      <th>3</th>\n",
       "      <td>5001711</td>\n",
       "      <td>-3</td>\n",
       "      <td>0</td>\n",
       "    </tr>\n",
       "    <tr>\n",
       "      <th>4</th>\n",
       "      <td>5001712</td>\n",
       "      <td>0</td>\n",
       "      <td>C</td>\n",
       "    </tr>\n",
       "  </tbody>\n",
       "</table>\n",
       "</div>"
      ],
      "text/plain": [
       "        ID  MONTHS_BALANCE STATUS\n",
       "0  5001711               0      X\n",
       "1  5001711              -1      0\n",
       "2  5001711              -2      0\n",
       "3  5001711              -3      0\n",
       "4  5001712               0      C"
      ]
     },
     "execution_count": 461,
     "metadata": {},
     "output_type": "execute_result"
    }
   ],
   "source": [
    "credit_record.head()"
   ]
  },
  {
   "cell_type": "code",
   "execution_count": 462,
   "id": "d4ecc3f3",
   "metadata": {},
   "outputs": [
    {
     "name": "stdout",
     "output_type": "stream",
     "text": [
      "<class 'pandas.core.frame.DataFrame'>\n",
      "RangeIndex: 1048575 entries, 0 to 1048574\n",
      "Data columns (total 3 columns):\n",
      " #   Column          Non-Null Count    Dtype \n",
      "---  ------          --------------    ----- \n",
      " 0   ID              1048575 non-null  int64 \n",
      " 1   MONTHS_BALANCE  1048575 non-null  int64 \n",
      " 2   STATUS          1048575 non-null  object\n",
      "dtypes: int64(2), object(1)\n",
      "memory usage: 24.0+ MB\n"
     ]
    }
   ],
   "source": [
    "credit_record.info()"
   ]
  },
  {
   "cell_type": "code",
   "execution_count": 463,
   "id": "c5bd2214",
   "metadata": {},
   "outputs": [
    {
     "data": {
      "text/plain": [
       "C    442031\n",
       "0    383120\n",
       "X    209230\n",
       "1     11090\n",
       "5      1693\n",
       "2       868\n",
       "3       320\n",
       "4       223\n",
       "Name: STATUS, dtype: int64"
      ]
     },
     "execution_count": 463,
     "metadata": {},
     "output_type": "execute_result"
    }
   ],
   "source": [
    "credit_record.STATUS.value_counts()"
   ]
  },
  {
   "cell_type": "markdown",
   "id": "f366f2b7",
   "metadata": {},
   "source": [
    "#### Preprocessing"
   ]
  },
  {
   "cell_type": "markdown",
   "id": "904b2e1b",
   "metadata": {},
   "source": [
    "###### Drop Unnecessary Data"
   ]
  },
  {
   "cell_type": "code",
   "execution_count": 464,
   "id": "6574d5ed",
   "metadata": {},
   "outputs": [],
   "source": [
    "# falg_mobil column has the same value\n",
    "applications.drop( columns = ['FLAG_MOBIL'],inplace=True)\n",
    "\n",
    "# Drop Null values              \n",
    "applications.dropna(subset=['OCCUPATION_TYPE'],inplace=True)\n",
    "\n",
    "# drop repeated columns\n",
    "applications.drop_duplicates(subset=applications.columns[1:],inplace=True)"
   ]
  },
  {
   "cell_type": "markdown",
   "id": "ef35048c",
   "metadata": {},
   "source": [
    "###### Convert the status column to binary "
   ]
  },
  {
   "cell_type": "code",
   "execution_count": 465,
   "id": "a364c1c4",
   "metadata": {},
   "outputs": [],
   "source": [
    "credit_record['STATUS'] = np.where((credit_record['STATUS'] == '2') | (credit_record['STATUS'] == '3' )| (credit_record['STATUS'] == '4' )| (credit_record['STATUS'] == '5'), 1, 0)"
   ]
  },
  {
   "cell_type": "code",
   "execution_count": 466,
   "id": "4f4bb4d4",
   "metadata": {},
   "outputs": [
    {
     "data": {
      "text/plain": [
       "0    1045471\n",
       "1       3104\n",
       "Name: STATUS, dtype: int64"
      ]
     },
     "execution_count": 466,
     "metadata": {},
     "output_type": "execute_result"
    }
   ],
   "source": [
    "credit_record.STATUS.value_counts()"
   ]
  },
  {
   "cell_type": "code",
   "execution_count": 467,
   "id": "d9640dae",
   "metadata": {},
   "outputs": [],
   "source": [
    "credit_classified = pd.DataFrame(pd.unique(credit_record.ID),columns = ['ID'])"
   ]
  },
  {
   "cell_type": "code",
   "execution_count": 468,
   "id": "49c9618e",
   "metadata": {},
   "outputs": [
    {
     "data": {
      "text/plain": [
       "(45985, 1)"
      ]
     },
     "execution_count": 468,
     "metadata": {},
     "output_type": "execute_result"
    }
   ],
   "source": [
    "credit_classified.shape\n"
   ]
  },
  {
   "cell_type": "code",
   "execution_count": 469,
   "id": "ceee27c3",
   "metadata": {},
   "outputs": [],
   "source": [
    "merged_data = pd.merge(applications, credit_record, how = \"inner\" , on='ID')"
   ]
  },
  {
   "cell_type": "code",
   "execution_count": 470,
   "id": "7fc5acf9",
   "metadata": {},
   "outputs": [
    {
     "data": {
      "text/plain": [
       "(151219, 19)"
      ]
     },
     "execution_count": 470,
     "metadata": {},
     "output_type": "execute_result"
    }
   ],
   "source": [
    "merged_data.shape"
   ]
  },
  {
   "cell_type": "markdown",
   "id": "afa5a504",
   "metadata": {},
   "source": [
    "##### Outliers"
   ]
  },
  {
   "cell_type": "code",
   "execution_count": 471,
   "id": "28bfbfa7",
   "metadata": {},
   "outputs": [],
   "source": [
    "# Removing the outliers\n",
    "def removeOutliers(data, col):\n",
    "    Q3 = np.quantile(data[col], 0.75)\n",
    "    Q1 = np.quantile(data[col], 0.25)\n",
    "    IQR = Q3 - Q1\n",
    " \n",
    "    print(\"IQR value for column %s is: %s\" % (col, IQR))\n",
    "    global outlier_free_list\n",
    "    global filtered_data\n",
    " \n",
    "    lower_range = Q1 - 1.5 * IQR\n",
    "    upper_range = Q3 + 1.5 * IQR\n",
    "    outlier_free_list = [x for x in data[col] if (\n",
    "        (x > lower_range) & (x < upper_range))]\n",
    "    filtered_data = data.loc[data[col].isin(outlier_free_list)]\n",
    "    clean_col = filtered_data[col].describe()\n",
    "    return clean_col, upper_range, lower_range"
   ]
  },
  {
   "cell_type": "code",
   "execution_count": 472,
   "id": "48709b33",
   "metadata": {},
   "outputs": [
    {
     "data": {
      "text/plain": [
       "(151219, 19)"
      ]
     },
     "execution_count": 472,
     "metadata": {},
     "output_type": "execute_result"
    }
   ],
   "source": [
    "merged_data.shape"
   ]
  },
  {
   "cell_type": "markdown",
   "id": "a2a78f49",
   "metadata": {},
   "source": [
    "###### AMT_INCOME_TOTAL column"
   ]
  },
  {
   "cell_type": "code",
   "execution_count": 473,
   "id": "0ea100bb",
   "metadata": {},
   "outputs": [
    {
     "data": {
      "image/png": "[encoded data removed]",
      "text/plain": [
       "<Figure size 500x500 with 1 Axes>"
      ]
     },
     "metadata": {},
     "output_type": "display_data"
    }
   ],
   "source": [
    "sns.displot(merged_data, x=\"AMT_INCOME_TOTAL\")\n",
    "plt.show()"
   ]
  },
  {
   "cell_type": "code",
   "execution_count": 474,
   "id": "46c3211a",
   "metadata": {},
   "outputs": [
    {
     "data": {
      "image/png": "[encoded data removed]",
      "text/plain": [
       "<Figure size 640x480 with 1 Axes>"
      ]
     },
     "metadata": {},
     "output_type": "display_data"
    }
   ],
   "source": [
    "merged_data.boxplot('AMT_INCOME_TOTAL')\n",
    "plt.show()"
   ]
  },
  {
   "cell_type": "code",
   "execution_count": 475,
   "id": "194732f8",
   "metadata": {},
   "outputs": [
    {
     "name": "stdout",
     "output_type": "stream",
     "text": [
      "IQR value for column AMT_INCOME_TOTAL is: 92250.0\n",
      "count    144257.000000\n",
      "mean     176647.743253\n",
      "std       70470.129762\n",
      "min       27000.000000\n",
      "25%      126000.000000\n",
      "50%      157500.000000\n",
      "75%      225000.000000\n",
      "max      360000.000000\n",
      "Name: AMT_INCOME_TOTAL, dtype: float64 363375.0\n"
     ]
    }
   ],
   "source": [
    "clean_col, upper_range, lower_range = removeOutliers(merged_data, 'AMT_INCOME_TOTAL')\n",
    "print(clean_col, upper_range)"
   ]
  },
  {
   "cell_type": "code",
   "execution_count": 476,
   "id": "8ad07ab7",
   "metadata": {},
   "outputs": [],
   "source": [
    "merged_data.drop(merged_data[merged_data.AMT_INCOME_TOTAL > upper_range].index,inplace=True)"
   ]
  },
  {
   "cell_type": "code",
   "execution_count": 477,
   "id": "f4f88db0",
   "metadata": {},
   "outputs": [
    {
     "data": {
      "image/png": "[encoded data removed]",
      "text/plain": [
       "<Figure size 640x480 with 1 Axes>"
      ]
     },
     "metadata": {},
     "output_type": "display_data"
    }
   ],
   "source": [
    "merged_data.boxplot('AMT_INCOME_TOTAL')\n",
    "plt.show()"
   ]
  },
  {
   "cell_type": "code",
   "execution_count": 478,
   "id": "8aeba71e",
   "metadata": {},
   "outputs": [
    {
     "data": {
      "image/png": "[encoded data removed]",
      "text/plain": [
       "<Figure size 640x480 with 1 Axes>"
      ]
     },
     "metadata": {},
     "output_type": "display_data"
    }
   ],
   "source": [
    "merged_data.boxplot('AMT_INCOME_TOTAL')\n",
    "plt.show()"
   ]
  },
  {
   "cell_type": "code",
   "execution_count": 479,
   "id": "352a126c",
   "metadata": {},
   "outputs": [
    {
     "data": {
      "text/plain": [
       "(144257, 19)"
      ]
     },
     "execution_count": 479,
     "metadata": {},
     "output_type": "execute_result"
    }
   ],
   "source": [
    "merged_data.shape"
   ]
  },
  {
   "cell_type": "markdown",
   "id": "23971f8b",
   "metadata": {},
   "source": [
    "###### CNT_CHILDREN Column"
   ]
  },
  {
   "cell_type": "code",
   "execution_count": 480,
   "id": "f28152e6",
   "metadata": {},
   "outputs": [
    {
     "data": {
      "image/png": "[encoded data removed]",
      "text/plain": [
       "<Figure size 500x500 with 1 Axes>"
      ]
     },
     "metadata": {},
     "output_type": "display_data"
    }
   ],
   "source": [
    "sns.displot(merged_data, x=\"CNT_CHILDREN\")\n",
    "plt.show()"
   ]
  },
  {
   "cell_type": "code",
   "execution_count": 481,
   "id": "4c6dc2be",
   "metadata": {},
   "outputs": [
    {
     "data": {
      "image/png": "[encoded data removed]",
      "text/plain": [
       "<Figure size 640x480 with 1 Axes>"
      ]
     },
     "metadata": {},
     "output_type": "display_data"
    }
   ],
   "source": [
    "merged_data.boxplot('CNT_CHILDREN')\n",
    "plt.show()"
   ]
  },
  {
   "cell_type": "code",
   "execution_count": 482,
   "id": "4c503f47",
   "metadata": {},
   "outputs": [
    {
     "name": "stdout",
     "output_type": "stream",
     "text": [
      "IQR value for column CNT_CHILDREN is: 1.0\n",
      "count    141723.000000\n",
      "mean          0.449398\n",
      "std           0.679458\n",
      "min           0.000000\n",
      "25%           0.000000\n",
      "50%           0.000000\n",
      "75%           1.000000\n",
      "max           2.000000\n",
      "Name: CNT_CHILDREN, dtype: float64 2.5\n"
     ]
    }
   ],
   "source": [
    "clean_col, upper_range, lower_range = removeOutliers(merged_data, 'CNT_CHILDREN')\n",
    "print(clean_col, upper_range)"
   ]
  },
  {
   "cell_type": "code",
   "execution_count": 483,
   "id": "4c2967a2",
   "metadata": {},
   "outputs": [],
   "source": [
    "merged_data.drop(merged_data[merged_data.CNT_CHILDREN > upper_range].index,inplace=True)"
   ]
  },
  {
   "cell_type": "code",
   "execution_count": 484,
   "id": "5b5f0d4e",
   "metadata": {},
   "outputs": [
    {
     "data": {
      "image/png": "[encoded data removed]",
      "text/plain": [
       "<Figure size 640x480 with 1 Axes>"
      ]
     },
     "metadata": {},
     "output_type": "display_data"
    }
   ],
   "source": [
    "merged_data.boxplot('CNT_CHILDREN')\n",
    "plt.show()"
   ]
  },
  {
   "cell_type": "code",
   "execution_count": 485,
   "id": "1dc7ffb3",
   "metadata": {},
   "outputs": [
    {
     "data": {
      "text/plain": [
       "(141723, 19)"
      ]
     },
     "execution_count": 485,
     "metadata": {},
     "output_type": "execute_result"
    }
   ],
   "source": [
    "merged_data.shape"
   ]
  },
  {
   "cell_type": "markdown",
   "id": "f375adc5",
   "metadata": {},
   "source": [
    "###### DAYS_EMPLOYED Column"
   ]
  },
  {
   "cell_type": "code",
   "execution_count": 486,
   "id": "0a0bf53b",
   "metadata": {},
   "outputs": [
    {
     "data": {
      "image/png": "[encoded data removed]",
      "text/plain": [
       "<Figure size 500x500 with 1 Axes>"
      ]
     },
     "metadata": {},
     "output_type": "display_data"
    }
   ],
   "source": [
    "sns.displot(merged_data, x=\"DAYS_EMPLOYED\")\n",
    "plt.show()"
   ]
  },
  {
   "cell_type": "code",
   "execution_count": 487,
   "id": "9d52472a",
   "metadata": {},
   "outputs": [
    {
     "data": {
      "image/png": "[encoded data removed]",
      "text/plain": [
       "<Figure size 640x480 with 1 Axes>"
      ]
     },
     "metadata": {},
     "output_type": "display_data"
    }
   ],
   "source": [
    "merged_data.boxplot('DAYS_EMPLOYED')\n",
    "plt.show()"
   ]
  },
  {
   "cell_type": "code",
   "execution_count": 488,
   "id": "2b3af06f",
   "metadata": {},
   "outputs": [
    {
     "name": "stdout",
     "output_type": "stream",
     "text": [
      "IQR value for column DAYS_EMPLOYED is: 2562.0\n",
      "count    133672.000000\n",
      "mean      -2222.210186\n",
      "std        1675.423721\n",
      "min       -7347.000000\n",
      "25%       -3201.000000\n",
      "50%       -1816.000000\n",
      "75%        -888.000000\n",
      "max         -17.000000\n",
      "Name: DAYS_EMPLOYED, dtype: float64 2887.0\n"
     ]
    }
   ],
   "source": [
    "clean_col, upper_range, lower_range = removeOutliers(merged_data, 'DAYS_EMPLOYED')\n",
    "print(clean_col, upper_range)"
   ]
  },
  {
   "cell_type": "code",
   "execution_count": 489,
   "id": "943263b6",
   "metadata": {},
   "outputs": [],
   "source": [
    "merged_data.drop(merged_data[merged_data.DAYS_EMPLOYED > lower_range].index,inplace=True)"
   ]
  },
  {
   "cell_type": "code",
   "execution_count": 490,
   "id": "43c1a30a",
   "metadata": {},
   "outputs": [
    {
     "data": {
      "image/png": "[encoded data removed]",
      "text/plain": [
       "<Figure size 640x480 with 1 Axes>"
      ]
     },
     "metadata": {},
     "output_type": "display_data"
    }
   ],
   "source": [
    "merged_data.boxplot('DAYS_EMPLOYED')\n",
    "plt.show()"
   ]
  },
  {
   "cell_type": "code",
   "execution_count": 491,
   "id": "8ecfa488",
   "metadata": {},
   "outputs": [
    {
     "data": {
      "text/plain": [
       "(8051, 19)"
      ]
     },
     "execution_count": 491,
     "metadata": {},
     "output_type": "execute_result"
    }
   ],
   "source": [
    "merged_data.shape"
   ]
  },
  {
   "cell_type": "markdown",
   "id": "3b3945b9",
   "metadata": {},
   "source": [
    "###### CNT_FAM_MEMBERS Column"
   ]
  },
  {
   "cell_type": "code",
   "execution_count": 492,
   "id": "7c4d8d01",
   "metadata": {},
   "outputs": [
    {
     "data": {
      "image/png": "[encoded data removed]",
      "text/plain": [
       "<Figure size 500x500 with 1 Axes>"
      ]
     },
     "metadata": {},
     "output_type": "display_data"
    }
   ],
   "source": [
    "sns.displot(merged_data, x=\"CNT_FAM_MEMBERS\")\n",
    "plt.show()"
   ]
  },
  {
   "cell_type": "code",
   "execution_count": 493,
   "id": "326f9515",
   "metadata": {},
   "outputs": [
    {
     "data": {
      "image/png": "[encoded data removed]",
      "text/plain": [
       "<Figure size 640x480 with 1 Axes>"
      ]
     },
     "metadata": {},
     "output_type": "display_data"
    }
   ],
   "source": [
    "merged_data.boxplot('CNT_FAM_MEMBERS')\n",
    "plt.show()"
   ]
  },
  {
   "cell_type": "code",
   "execution_count": 494,
   "id": "b83a42cc",
   "metadata": {},
   "outputs": [
    {
     "name": "stdout",
     "output_type": "stream",
     "text": [
      "IQR value for column CNT_FAM_MEMBERS is: 0.0\n",
      "count    0.0\n",
      "mean     NaN\n",
      "std      NaN\n",
      "min      NaN\n",
      "25%      NaN\n",
      "50%      NaN\n",
      "75%      NaN\n",
      "max      NaN\n",
      "Name: CNT_FAM_MEMBERS, dtype: float64 2.0\n"
     ]
    }
   ],
   "source": [
    "clean_col, upper_range, lower_range = removeOutliers(merged_data, 'CNT_FAM_MEMBERS')\n",
    "print(clean_col, upper_range)"
   ]
  },
  {
   "cell_type": "code",
   "execution_count": 495,
   "id": "fc17c788",
   "metadata": {},
   "outputs": [],
   "source": [
    "merged_data.drop(merged_data[merged_data.CNT_FAM_MEMBERS > upper_range].index,inplace=True)"
   ]
  },
  {
   "cell_type": "code",
   "execution_count": 496,
   "id": "51e34d66",
   "metadata": {},
   "outputs": [
    {
     "data": {
      "image/png": "[encoded data removed]",
      "text/plain": [
       "<Figure size 640x480 with 1 Axes>"
      ]
     },
     "metadata": {},
     "output_type": "display_data"
    }
   ],
   "source": [
    "merged_data.boxplot('CNT_FAM_MEMBERS')\n",
    "plt.show()"
   ]
  },
  {
   "cell_type": "code",
   "execution_count": 497,
   "id": "612dd4c7",
   "metadata": {},
   "outputs": [
    {
     "data": {
      "text/plain": [
       "(7075, 19)"
      ]
     },
     "execution_count": 497,
     "metadata": {},
     "output_type": "execute_result"
    }
   ],
   "source": [
    "merged_data.shape"
   ]
  },
  {
   "cell_type": "code",
   "execution_count": 498,
   "id": "95605008",
   "metadata": {},
   "outputs": [],
   "source": [
    "xData = merged_data[merged_data.columns[1:-3]]\n",
    "yData = merged_data[merged_data.columns[-1]]"
   ]
  },
  {
   "cell_type": "markdown",
   "id": "132d9b51",
   "metadata": {},
   "source": [
    "###### Encode Categorical Variables"
   ]
  },
  {
   "cell_type": "code",
   "execution_count": 499,
   "id": "344d50c6",
   "metadata": {},
   "outputs": [],
   "source": [
    "xData = pd.get_dummies(xData,drop_first=True)"
   ]
  },
  {
   "cell_type": "markdown",
   "id": "e1ff5cef",
   "metadata": {},
   "source": [
    "###### Scaling"
   ]
  },
  {
   "cell_type": "code",
   "execution_count": 500,
   "id": "f695eb40",
   "metadata": {},
   "outputs": [
    {
     "data": {
      "text/html": [
       "<div>\n",
       "<style scoped>\n",
       "    .dataframe tbody tr th:only-of-type {\n",
       "        vertical-align: middle;\n",
       "    }\n",
       "\n",
       "    .dataframe tbody tr th {\n",
       "        vertical-align: top;\n",
       "    }\n",
       "\n",
       "    .dataframe thead th {\n",
       "        text-align: right;\n",
       "    }\n",
       "</style>\n",
       "<table border=\"1\" class=\"dataframe\">\n",
       "  <thead>\n",
       "    <tr style=\"text-align: right;\">\n",
       "      <th></th>\n",
       "      <th>CNT_CHILDREN</th>\n",
       "      <th>AMT_INCOME_TOTAL</th>\n",
       "      <th>DAYS_BIRTH</th>\n",
       "      <th>DAYS_EMPLOYED</th>\n",
       "      <th>FLAG_WORK_PHONE</th>\n",
       "      <th>FLAG_PHONE</th>\n",
       "      <th>FLAG_EMAIL</th>\n",
       "      <th>CODE_GENDER_M</th>\n",
       "      <th>FLAG_OWN_CAR_Y</th>\n",
       "      <th>FLAG_OWN_REALTY_Y</th>\n",
       "      <th>...</th>\n",
       "      <th>OCCUPATION_TYPE_IT staff</th>\n",
       "      <th>OCCUPATION_TYPE_Laborers</th>\n",
       "      <th>OCCUPATION_TYPE_Low-skill Laborers</th>\n",
       "      <th>OCCUPATION_TYPE_Managers</th>\n",
       "      <th>OCCUPATION_TYPE_Medicine staff</th>\n",
       "      <th>OCCUPATION_TYPE_Private service staff</th>\n",
       "      <th>OCCUPATION_TYPE_Realty agents</th>\n",
       "      <th>OCCUPATION_TYPE_Sales staff</th>\n",
       "      <th>OCCUPATION_TYPE_Secretaries</th>\n",
       "      <th>OCCUPATION_TYPE_Security staff</th>\n",
       "    </tr>\n",
       "  </thead>\n",
       "  <tbody>\n",
       "    <tr>\n",
       "      <th>0</th>\n",
       "      <td>-0.198422</td>\n",
       "      <td>1.391909</td>\n",
       "      <td>-0.517273</td>\n",
       "      <td>-0.603766</td>\n",
       "      <td>-0.647941</td>\n",
       "      <td>-0.710858</td>\n",
       "      <td>3.68614</td>\n",
       "      <td>-0.478698</td>\n",
       "      <td>1.513</td>\n",
       "      <td>0.707032</td>\n",
       "      <td>...</td>\n",
       "      <td>-0.093257</td>\n",
       "      <td>1.763121</td>\n",
       "      <td>-0.047609</td>\n",
       "      <td>-0.359819</td>\n",
       "      <td>-0.416994</td>\n",
       "      <td>-0.106265</td>\n",
       "      <td>-0.042905</td>\n",
       "      <td>-0.131909</td>\n",
       "      <td>-0.060733</td>\n",
       "      <td>-0.073485</td>\n",
       "    </tr>\n",
       "    <tr>\n",
       "      <th>1</th>\n",
       "      <td>-0.198422</td>\n",
       "      <td>1.391909</td>\n",
       "      <td>-0.517273</td>\n",
       "      <td>-0.603766</td>\n",
       "      <td>-0.647941</td>\n",
       "      <td>-0.710858</td>\n",
       "      <td>3.68614</td>\n",
       "      <td>-0.478698</td>\n",
       "      <td>1.513</td>\n",
       "      <td>0.707032</td>\n",
       "      <td>...</td>\n",
       "      <td>-0.093257</td>\n",
       "      <td>1.763121</td>\n",
       "      <td>-0.047609</td>\n",
       "      <td>-0.359819</td>\n",
       "      <td>-0.416994</td>\n",
       "      <td>-0.106265</td>\n",
       "      <td>-0.042905</td>\n",
       "      <td>-0.131909</td>\n",
       "      <td>-0.060733</td>\n",
       "      <td>-0.073485</td>\n",
       "    </tr>\n",
       "    <tr>\n",
       "      <th>2</th>\n",
       "      <td>-0.198422</td>\n",
       "      <td>1.391909</td>\n",
       "      <td>-0.517273</td>\n",
       "      <td>-0.603766</td>\n",
       "      <td>-0.647941</td>\n",
       "      <td>-0.710858</td>\n",
       "      <td>3.68614</td>\n",
       "      <td>-0.478698</td>\n",
       "      <td>1.513</td>\n",
       "      <td>0.707032</td>\n",
       "      <td>...</td>\n",
       "      <td>-0.093257</td>\n",
       "      <td>1.763121</td>\n",
       "      <td>-0.047609</td>\n",
       "      <td>-0.359819</td>\n",
       "      <td>-0.416994</td>\n",
       "      <td>-0.106265</td>\n",
       "      <td>-0.042905</td>\n",
       "      <td>-0.131909</td>\n",
       "      <td>-0.060733</td>\n",
       "      <td>-0.073485</td>\n",
       "    </tr>\n",
       "    <tr>\n",
       "      <th>3</th>\n",
       "      <td>-0.198422</td>\n",
       "      <td>1.391909</td>\n",
       "      <td>-0.517273</td>\n",
       "      <td>-0.603766</td>\n",
       "      <td>-0.647941</td>\n",
       "      <td>-0.710858</td>\n",
       "      <td>3.68614</td>\n",
       "      <td>-0.478698</td>\n",
       "      <td>1.513</td>\n",
       "      <td>0.707032</td>\n",
       "      <td>...</td>\n",
       "      <td>-0.093257</td>\n",
       "      <td>1.763121</td>\n",
       "      <td>-0.047609</td>\n",
       "      <td>-0.359819</td>\n",
       "      <td>-0.416994</td>\n",
       "      <td>-0.106265</td>\n",
       "      <td>-0.042905</td>\n",
       "      <td>-0.131909</td>\n",
       "      <td>-0.060733</td>\n",
       "      <td>-0.073485</td>\n",
       "    </tr>\n",
       "    <tr>\n",
       "      <th>4</th>\n",
       "      <td>-0.198422</td>\n",
       "      <td>1.391909</td>\n",
       "      <td>-0.517273</td>\n",
       "      <td>-0.603766</td>\n",
       "      <td>-0.647941</td>\n",
       "      <td>-0.710858</td>\n",
       "      <td>3.68614</td>\n",
       "      <td>-0.478698</td>\n",
       "      <td>1.513</td>\n",
       "      <td>0.707032</td>\n",
       "      <td>...</td>\n",
       "      <td>-0.093257</td>\n",
       "      <td>1.763121</td>\n",
       "      <td>-0.047609</td>\n",
       "      <td>-0.359819</td>\n",
       "      <td>-0.416994</td>\n",
       "      <td>-0.106265</td>\n",
       "      <td>-0.042905</td>\n",
       "      <td>-0.131909</td>\n",
       "      <td>-0.060733</td>\n",
       "      <td>-0.073485</td>\n",
       "    </tr>\n",
       "    <tr>\n",
       "      <th>5</th>\n",
       "      <td>-0.198422</td>\n",
       "      <td>1.391909</td>\n",
       "      <td>-0.517273</td>\n",
       "      <td>-0.603766</td>\n",
       "      <td>-0.647941</td>\n",
       "      <td>-0.710858</td>\n",
       "      <td>3.68614</td>\n",
       "      <td>-0.478698</td>\n",
       "      <td>1.513</td>\n",
       "      <td>0.707032</td>\n",
       "      <td>...</td>\n",
       "      <td>-0.093257</td>\n",
       "      <td>1.763121</td>\n",
       "      <td>-0.047609</td>\n",
       "      <td>-0.359819</td>\n",
       "      <td>-0.416994</td>\n",
       "      <td>-0.106265</td>\n",
       "      <td>-0.042905</td>\n",
       "      <td>-0.131909</td>\n",
       "      <td>-0.060733</td>\n",
       "      <td>-0.073485</td>\n",
       "    </tr>\n",
       "    <tr>\n",
       "      <th>6</th>\n",
       "      <td>-0.198422</td>\n",
       "      <td>1.391909</td>\n",
       "      <td>-0.517273</td>\n",
       "      <td>-0.603766</td>\n",
       "      <td>-0.647941</td>\n",
       "      <td>-0.710858</td>\n",
       "      <td>3.68614</td>\n",
       "      <td>-0.478698</td>\n",
       "      <td>1.513</td>\n",
       "      <td>0.707032</td>\n",
       "      <td>...</td>\n",
       "      <td>-0.093257</td>\n",
       "      <td>1.763121</td>\n",
       "      <td>-0.047609</td>\n",
       "      <td>-0.359819</td>\n",
       "      <td>-0.416994</td>\n",
       "      <td>-0.106265</td>\n",
       "      <td>-0.042905</td>\n",
       "      <td>-0.131909</td>\n",
       "      <td>-0.060733</td>\n",
       "      <td>-0.073485</td>\n",
       "    </tr>\n",
       "    <tr>\n",
       "      <th>7</th>\n",
       "      <td>-0.198422</td>\n",
       "      <td>1.391909</td>\n",
       "      <td>-0.517273</td>\n",
       "      <td>-0.603766</td>\n",
       "      <td>-0.647941</td>\n",
       "      <td>-0.710858</td>\n",
       "      <td>3.68614</td>\n",
       "      <td>-0.478698</td>\n",
       "      <td>1.513</td>\n",
       "      <td>0.707032</td>\n",
       "      <td>...</td>\n",
       "      <td>-0.093257</td>\n",
       "      <td>1.763121</td>\n",
       "      <td>-0.047609</td>\n",
       "      <td>-0.359819</td>\n",
       "      <td>-0.416994</td>\n",
       "      <td>-0.106265</td>\n",
       "      <td>-0.042905</td>\n",
       "      <td>-0.131909</td>\n",
       "      <td>-0.060733</td>\n",
       "      <td>-0.073485</td>\n",
       "    </tr>\n",
       "    <tr>\n",
       "      <th>8</th>\n",
       "      <td>-0.198422</td>\n",
       "      <td>1.391909</td>\n",
       "      <td>-0.517273</td>\n",
       "      <td>-0.603766</td>\n",
       "      <td>-0.647941</td>\n",
       "      <td>-0.710858</td>\n",
       "      <td>3.68614</td>\n",
       "      <td>-0.478698</td>\n",
       "      <td>1.513</td>\n",
       "      <td>0.707032</td>\n",
       "      <td>...</td>\n",
       "      <td>-0.093257</td>\n",
       "      <td>1.763121</td>\n",
       "      <td>-0.047609</td>\n",
       "      <td>-0.359819</td>\n",
       "      <td>-0.416994</td>\n",
       "      <td>-0.106265</td>\n",
       "      <td>-0.042905</td>\n",
       "      <td>-0.131909</td>\n",
       "      <td>-0.060733</td>\n",
       "      <td>-0.073485</td>\n",
       "    </tr>\n",
       "    <tr>\n",
       "      <th>9</th>\n",
       "      <td>-0.198422</td>\n",
       "      <td>1.391909</td>\n",
       "      <td>-0.517273</td>\n",
       "      <td>-0.603766</td>\n",
       "      <td>-0.647941</td>\n",
       "      <td>-0.710858</td>\n",
       "      <td>3.68614</td>\n",
       "      <td>-0.478698</td>\n",
       "      <td>1.513</td>\n",
       "      <td>0.707032</td>\n",
       "      <td>...</td>\n",
       "      <td>-0.093257</td>\n",
       "      <td>1.763121</td>\n",
       "      <td>-0.047609</td>\n",
       "      <td>-0.359819</td>\n",
       "      <td>-0.416994</td>\n",
       "      <td>-0.106265</td>\n",
       "      <td>-0.042905</td>\n",
       "      <td>-0.131909</td>\n",
       "      <td>-0.060733</td>\n",
       "      <td>-0.073485</td>\n",
       "    </tr>\n",
       "  </tbody>\n",
       "</table>\n",
       "<p>10 rows × 39 columns</p>\n",
       "</div>"
      ],
      "text/plain": [
       "   CNT_CHILDREN  AMT_INCOME_TOTAL  DAYS_BIRTH  DAYS_EMPLOYED  FLAG_WORK_PHONE  \\\n",
       "0     -0.198422          1.391909   -0.517273      -0.603766        -0.647941   \n",
       "1     -0.198422          1.391909   -0.517273      -0.603766        -0.647941   \n",
       "2     -0.198422          1.391909   -0.517273      -0.603766        -0.647941   \n",
       "3     -0.198422          1.391909   -0.517273      -0.603766        -0.647941   \n",
       "4     -0.198422          1.391909   -0.517273      -0.603766        -0.647941   \n",
       "5     -0.198422          1.391909   -0.517273      -0.603766        -0.647941   \n",
       "6     -0.198422          1.391909   -0.517273      -0.603766        -0.647941   \n",
       "7     -0.198422          1.391909   -0.517273      -0.603766        -0.647941   \n",
       "8     -0.198422          1.391909   -0.517273      -0.603766        -0.647941   \n",
       "9     -0.198422          1.391909   -0.517273      -0.603766        -0.647941   \n",
       "\n",
       "   FLAG_PHONE  FLAG_EMAIL  CODE_GENDER_M  FLAG_OWN_CAR_Y  FLAG_OWN_REALTY_Y  \\\n",
       "0   -0.710858     3.68614      -0.478698           1.513           0.707032   \n",
       "1   -0.710858     3.68614      -0.478698           1.513           0.707032   \n",
       "2   -0.710858     3.68614      -0.478698           1.513           0.707032   \n",
       "3   -0.710858     3.68614      -0.478698           1.513           0.707032   \n",
       "4   -0.710858     3.68614      -0.478698           1.513           0.707032   \n",
       "5   -0.710858     3.68614      -0.478698           1.513           0.707032   \n",
       "6   -0.710858     3.68614      -0.478698           1.513           0.707032   \n",
       "7   -0.710858     3.68614      -0.478698           1.513           0.707032   \n",
       "8   -0.710858     3.68614      -0.478698           1.513           0.707032   \n",
       "9   -0.710858     3.68614      -0.478698           1.513           0.707032   \n",
       "\n",
       "   ...  OCCUPATION_TYPE_IT staff  OCCUPATION_TYPE_Laborers  \\\n",
       "0  ...                 -0.093257                  1.763121   \n",
       "1  ...                 -0.093257                  1.763121   \n",
       "2  ...                 -0.093257                  1.763121   \n",
       "3  ...                 -0.093257                  1.763121   \n",
       "4  ...                 -0.093257                  1.763121   \n",
       "5  ...                 -0.093257                  1.763121   \n",
       "6  ...                 -0.093257                  1.763121   \n",
       "7  ...                 -0.093257                  1.763121   \n",
       "8  ...                 -0.093257                  1.763121   \n",
       "9  ...                 -0.093257                  1.763121   \n",
       "\n",
       "   OCCUPATION_TYPE_Low-skill Laborers  OCCUPATION_TYPE_Managers  \\\n",
       "0                           -0.047609                 -0.359819   \n",
       "1                           -0.047609                 -0.359819   \n",
       "2                           -0.047609                 -0.359819   \n",
       "3                           -0.047609                 -0.359819   \n",
       "4                           -0.047609                 -0.359819   \n",
       "5                           -0.047609                 -0.359819   \n",
       "6                           -0.047609                 -0.359819   \n",
       "7                           -0.047609                 -0.359819   \n",
       "8                           -0.047609                 -0.359819   \n",
       "9                           -0.047609                 -0.359819   \n",
       "\n",
       "   OCCUPATION_TYPE_Medicine staff  OCCUPATION_TYPE_Private service staff  \\\n",
       "0                       -0.416994                              -0.106265   \n",
       "1                       -0.416994                              -0.106265   \n",
       "2                       -0.416994                              -0.106265   \n",
       "3                       -0.416994                              -0.106265   \n",
       "4                       -0.416994                              -0.106265   \n",
       "5                       -0.416994                              -0.106265   \n",
       "6                       -0.416994                              -0.106265   \n",
       "7                       -0.416994                              -0.106265   \n",
       "8                       -0.416994                              -0.106265   \n",
       "9                       -0.416994                              -0.106265   \n",
       "\n",
       "   OCCUPATION_TYPE_Realty agents  OCCUPATION_TYPE_Sales staff  \\\n",
       "0                      -0.042905                    -0.131909   \n",
       "1                      -0.042905                    -0.131909   \n",
       "2                      -0.042905                    -0.131909   \n",
       "3                      -0.042905                    -0.131909   \n",
       "4                      -0.042905                    -0.131909   \n",
       "5                      -0.042905                    -0.131909   \n",
       "6                      -0.042905                    -0.131909   \n",
       "7                      -0.042905                    -0.131909   \n",
       "8                      -0.042905                    -0.131909   \n",
       "9                      -0.042905                    -0.131909   \n",
       "\n",
       "   OCCUPATION_TYPE_Secretaries  OCCUPATION_TYPE_Security staff  \n",
       "0                    -0.060733                       -0.073485  \n",
       "1                    -0.060733                       -0.073485  \n",
       "2                    -0.060733                       -0.073485  \n",
       "3                    -0.060733                       -0.073485  \n",
       "4                    -0.060733                       -0.073485  \n",
       "5                    -0.060733                       -0.073485  \n",
       "6                    -0.060733                       -0.073485  \n",
       "7                    -0.060733                       -0.073485  \n",
       "8                    -0.060733                       -0.073485  \n",
       "9                    -0.060733                       -0.073485  \n",
       "\n",
       "[10 rows x 39 columns]"
      ]
     },
     "execution_count": 500,
     "metadata": {},
     "output_type": "execute_result"
    }
   ],
   "source": [
    "std = StandardScaler()\n",
    "std.fit(xData)\n",
    "xScal = std.transform(xData)\n",
    "xScal  = pd.DataFrame(xScal,columns=xData.columns)\n",
    "xScal.head(10)"
   ]
  },
  {
   "cell_type": "code",
   "execution_count": 503,
   "id": "5110b00a",
   "metadata": {},
   "outputs": [],
   "source": [
    "xScal.to_csv('../Data/Train.csv', index = False)\n",
    "yData.to_csv('../Data/Test.csv', index = False)"
   ]
  },
  {
   "cell_type": "code",
   "execution_count": 453,
   "id": "98fe5e79",
   "metadata": {},
   "outputs": [],
   "source": [
    "X_train, X_test, y_train, y_test = train_test_split(xData,yData,random_state=24)"
   ]
  },
  {
   "cell_type": "code",
   "execution_count": 502,
   "id": "97a2467d",
   "metadata": {},
   "outputs": [
    {
     "data": {
      "text/plain": [
       "(5306,)"
      ]
     },
     "execution_count": 502,
     "metadata": {},
     "output_type": "execute_result"
    }
   ],
   "source": [
    "y_train.shape"
   ]
  },
  {
   "cell_type": "code",
   "execution_count": 454,
   "id": "e1bee46a",
   "metadata": {},
   "outputs": [
    {
     "name": "stdout",
     "output_type": "stream",
     "text": [
      "Original dataset shape 0    5282\n",
      "1      24\n",
      "Name: STATUS, dtype: int64\n",
      "Resample dataset shape 0    5282\n",
      "1      24\n",
      "Name: STATUS, dtype: int64\n"
     ]
    }
   ],
   "source": [
    "tl = TomekLinks(sampling_strategy='majority')\n",
    "x_tl, y_tl = tl.fit_resample(X_train,y_train)\n",
    "print('Original dataset shape', y_train.value_counts())\n",
    "print('Resample dataset shape', y_tl.value_counts())"
   ]
  },
  {
   "cell_type": "code",
   "execution_count": 448,
   "id": "cd35204d",
   "metadata": {},
   "outputs": [],
   "source": []
  }
 ],
 "metadata": {
  "kernelspec": {
   "display_name": "Python 3 (ipykernel)",
   "language": "python",
   "name": "python3"
  },
  "language_info": {
   "codemirror_mode": {
    "name": "ipython",
    "version": 3
   },
   "file_extension": ".py",
   "mimetype": "text/x-python",
   "name": "python",
   "nbconvert_exporter": "python",
   "pygments_lexer": "ipython3",
   "version": "3.9.13"
  }
 },
 "nbformat": 4,
 "nbformat_minor": 5
}
